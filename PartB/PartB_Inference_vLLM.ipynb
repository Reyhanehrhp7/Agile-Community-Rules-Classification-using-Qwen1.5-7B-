{
 "cells": [
  {
   "cell_type": "code",
   "execution_count": 1,
   "id": "2730219f",
   "metadata": {},
   "outputs": [
    {
     "name": "stderr",
     "output_type": "stream",
     "text": [
      "/home/012/r/rx/rxh210037/.conda/envs/llmenv/lib/python3.10/site-packages/tqdm/auto.py:21: TqdmWarning: IProgress not found. Please update jupyter and ipywidgets. See https://ipywidgets.readthedocs.io/en/stable/user_install.html\n",
      "  from .autonotebook import tqdm as notebook_tqdm\n"
     ]
    },
    {
     "name": "stdout",
     "output_type": "stream",
     "text": [
      "INFO 10-20 11:52:42 __init__.py:183] Automatically detected platform cuda.\n"
     ]
    },
    {
     "name": "stderr",
     "output_type": "stream",
     "text": [
      "2025-10-20 11:52:42,218\tINFO util.py:154 -- Missing packages: ['ipywidgets']. Run `pip install -U ipywidgets`, then restart the notebook server for rich notebook output.\n"
     ]
    }
   ],
   "source": [
    "from sklearn.model_selection import train_test_split\n",
    "import pandas as pd\n",
    "import numpy as np\n",
    "from sklearn.metrics import accuracy_score, f1_score\n",
    "import torch\n",
    "from transformers import (\n",
    "    AutoTokenizer,\n",
    "    AutoModelForSequenceClassification,\n",
    "    Trainer,\n",
    "    TrainingArguments,\n",
    ")\n",
    "\n",
    "import wandb\n",
    "from huggingface_hub import login, HfApi, create_repo\n",
    "from pathlib import Path\n",
    "from datasets import Dataset, DatasetDict\n",
    "from peft import LoraConfig, get_peft_model, prepare_model_for_kbit_training\n",
    "from vllm import LLM, SamplingParams\n",
    "from vllm.lora.request import LoRARequest\n",
    "\n",
    "\n"
   ]
  },
  {
   "cell_type": "code",
   "execution_count": null,
   "id": "ffec541b",
   "metadata": {},
   "outputs": [],
   "source": [
    "#Wandb & Huggingface keys\n",
    "hf_token = \"***REMOVED***\"\n",
    "wandb_api_key = \"**REMOVED***\""
   ]
  },
  {
   "cell_type": "code",
   "execution_count": 3,
   "id": "4aa798fb",
   "metadata": {},
   "outputs": [
    {
     "name": "stderr",
     "output_type": "stream",
     "text": [
      "\u001b[34m\u001b[1mwandb\u001b[0m: \u001b[33mWARNING\u001b[0m If you're specifying your api key in code, ensure this code is not shared publicly.\n",
      "\u001b[34m\u001b[1mwandb\u001b[0m: \u001b[33mWARNING\u001b[0m Consider setting the WANDB_API_KEY environment variable, or running `wandb login` from the command line.\n",
      "\u001b[34m\u001b[1mwandb\u001b[0m: Appending key for api.wandb.ai to your netrc file: /home/012/r/rx/rxh210037/.netrc\n",
      "\u001b[34m\u001b[1mwandb\u001b[0m: Currently logged in as: \u001b[33mreyhaneh-rhp7\u001b[0m (\u001b[33mreyhaneh-rhp7-university-of-texas-at-dallas\u001b[0m) to \u001b[32mhttps://api.wandb.ai\u001b[0m. Use \u001b[1m`wandb login --relogin`\u001b[0m to force relogin\n"
     ]
    },
    {
     "name": "stdout",
     "output_type": "stream",
     "text": [
      "Successfully logged in to WANDB!\n",
      "Successfully logged in to Hugging Face!\n"
     ]
    }
   ],
   "source": [
    "# Intitialize Weights & Biases\n",
    "if wandb_api_key:\n",
    "    wandb.login(key=wandb_api_key)\n",
    "    print(\"Successfully logged in to WANDB!\")\n",
    "else:\n",
    "    print(\"No wandb key provided. Skipping wandb login.\")\n",
    "\n",
    "if hf_token:\n",
    "    # Log in to Hugging Face\n",
    "    login(token=hf_token)\n",
    "    print(\"Successfully logged in to Hugging Face!\")\n",
    "else:\n",
    "    print(\"Hugging Face token not found in notebook secrets.\")\n"
   ]
  },
  {
   "cell_type": "code",
   "execution_count": 4,
   "id": "42666f3b",
   "metadata": {},
   "outputs": [
    {
     "data": {
      "text/html": [],
      "text/plain": [
       "<IPython.core.display.HTML object>"
      ]
     },
     "metadata": {},
     "output_type": "display_data"
    },
    {
     "data": {
      "text/html": [
       "Tracking run with wandb version 0.22.0"
      ],
      "text/plain": [
       "<IPython.core.display.HTML object>"
      ]
     },
     "metadata": {},
     "output_type": "display_data"
    },
    {
     "data": {
      "text/html": [
       "Run data is saved locally in <code>/home/rxh210037/LLM/LLM_class/HW4/PartB/wandb/run-20251020_115242-nxgardy4</code>"
      ],
      "text/plain": [
       "<IPython.core.display.HTML object>"
      ]
     },
     "metadata": {},
     "output_type": "display_data"
    },
    {
     "data": {
      "text/html": [
       "Syncing run <strong><a href='https://wandb.ai/reyhaneh-rhp7-university-of-texas-at-dallas/Jigsaw_PartB_Inference_vLLM/runs/nxgardy4' target=\"_blank\">Jigsaw_PartB_Inference_vLLM</a></strong> to <a href='https://wandb.ai/reyhaneh-rhp7-university-of-texas-at-dallas/Jigsaw_PartB_Inference_vLLM' target=\"_blank\">Weights & Biases</a> (<a href='https://wandb.me/developer-guide' target=\"_blank\">docs</a>)<br>"
      ],
      "text/plain": [
       "<IPython.core.display.HTML object>"
      ]
     },
     "metadata": {},
     "output_type": "display_data"
    },
    {
     "data": {
      "text/html": [
       " View project at <a href='https://wandb.ai/reyhaneh-rhp7-university-of-texas-at-dallas/Jigsaw_PartB_Inference_vLLM' target=\"_blank\">https://wandb.ai/reyhaneh-rhp7-university-of-texas-at-dallas/Jigsaw_PartB_Inference_vLLM</a>"
      ],
      "text/plain": [
       "<IPython.core.display.HTML object>"
      ]
     },
     "metadata": {},
     "output_type": "display_data"
    },
    {
     "data": {
      "text/html": [
       " View run at <a href='https://wandb.ai/reyhaneh-rhp7-university-of-texas-at-dallas/Jigsaw_PartB_Inference_vLLM/runs/nxgardy4' target=\"_blank\">https://wandb.ai/reyhaneh-rhp7-university-of-texas-at-dallas/Jigsaw_PartB_Inference_vLLM/runs/nxgardy4</a>"
      ],
      "text/plain": [
       "<IPython.core.display.HTML object>"
      ]
     },
     "metadata": {},
     "output_type": "display_data"
    },
    {
     "name": "stderr",
     "output_type": "stream",
     "text": [
      "\u001b[34m\u001b[1mwandb\u001b[0m: Detected [openai] in use.\n",
      "\u001b[34m\u001b[1mwandb\u001b[0m: Use W&B Weave for improved LLM call tracing. Install Weave with `pip install weave` then add `import weave` to the top of your script.\n",
      "\u001b[34m\u001b[1mwandb\u001b[0m: For more information, check out the docs at: https://weave-docs.wandb.ai/\n"
     ]
    },
    {
     "data": {
      "text/html": [
       "<button onClick=\"this.nextSibling.style.display='block';this.style.display='none';\">Display W&B run</button><iframe src='https://wandb.ai/reyhaneh-rhp7-university-of-texas-at-dallas/Jigsaw_PartB_Inference_vLLM/runs/nxgardy4?jupyter=true' style='border:none;width:100%;height:420px;display:none;'></iframe>"
      ],
      "text/plain": [
       "<wandb.sdk.wandb_run.Run at 0x7fc784797df0>"
      ]
     },
     "execution_count": 4,
     "metadata": {},
     "output_type": "execute_result"
    }
   ],
   "source": [
    "wandb.init(project=\"Jigsaw_PartB_Inference_vLLM\", name=\"Jigsaw_PartB_Inference_vLLM\")  # you can omit name if not needed\n"
   ]
  },
  {
   "cell_type": "code",
   "execution_count": null,
   "id": "aa9443d3",
   "metadata": {},
   "outputs": [
    {
     "name": "stdout",
     "output_type": "stream",
     "text": [
      "Dataframe shape: (10, 8)\n"
     ]
    },
    {
     "data": {
      "text/html": [
       "<div>\n",
       "<style scoped>\n",
       "    .dataframe tbody tr th:only-of-type {\n",
       "        vertical-align: middle;\n",
       "    }\n",
       "\n",
       "    .dataframe tbody tr th {\n",
       "        vertical-align: top;\n",
       "    }\n",
       "\n",
       "    .dataframe thead th {\n",
       "        text-align: right;\n",
       "    }\n",
       "</style>\n",
       "<table border=\"1\" class=\"dataframe\">\n",
       "  <thead>\n",
       "    <tr style=\"text-align: right;\">\n",
       "      <th></th>\n",
       "      <th>row_id</th>\n",
       "      <th>body</th>\n",
       "      <th>rule</th>\n",
       "      <th>subreddit</th>\n",
       "      <th>positive_example_1</th>\n",
       "      <th>positive_example_2</th>\n",
       "      <th>negative_example_1</th>\n",
       "      <th>negative_example_2</th>\n",
       "    </tr>\n",
       "  </thead>\n",
       "  <tbody>\n",
       "    <tr>\n",
       "      <th>0</th>\n",
       "      <td>2029</td>\n",
       "      <td>NEW RAP GROUP 17. CHECK US OUT https://soundcl...</td>\n",
       "      <td>No Advertising: Spam, referral links, unsolici...</td>\n",
       "      <td>hiphopheads</td>\n",
       "      <td>Hey, guys, just wanted to drop in and invite y...</td>\n",
       "      <td>Cum Swallowing Hottie Katrina Kaif Cartoon Xvi...</td>\n",
       "      <td>SD Stream Eng - [Chelsea TV USA](http://soccer...</td>\n",
       "      <td>HD Streams: |[ENG HD Stoke vs Manchester Unite...</td>\n",
       "    </tr>\n",
       "    <tr>\n",
       "      <th>1</th>\n",
       "      <td>2030</td>\n",
       "      <td>Make your life comfortable. Get up to 15% Disc...</td>\n",
       "      <td>No legal advice: Do not offer or request legal...</td>\n",
       "      <td>AskReddit</td>\n",
       "      <td>Get a lawyer and get the security camera foota...</td>\n",
       "      <td>That isn't drastic. You tried reaching out to ...</td>\n",
       "      <td>So what are you going to do with the insurance...</td>\n",
       "      <td>It's just for Austria &amp; Germany. If you still ...</td>\n",
       "    </tr>\n",
       "    <tr>\n",
       "      <th>2</th>\n",
       "      <td>2031</td>\n",
       "      <td>Kickin' ass and selling underwear!\\nJust made ...</td>\n",
       "      <td>No Advertising: Spam, referral links, unsolici...</td>\n",
       "      <td>gonewild</td>\n",
       "      <td>Good story my friend. Check out my blog at  ht...</td>\n",
       "      <td>If you know what exactly you need then you don...</td>\n",
       "      <td>CENTIPEDES\\n\\nSOME BASED PATRIOTS HAVE CREATED...</td>\n",
       "      <td>[So great! Thanks for sharing.](http://www.che...</td>\n",
       "    </tr>\n",
       "    <tr>\n",
       "      <th>3</th>\n",
       "      <td>2032</td>\n",
       "      <td>watch  hooters  best  therein  http://clickan...</td>\n",
       "      <td>No Advertising: Spam, referral links, unsolici...</td>\n",
       "      <td>personalfinance</td>\n",
       "      <td>Earn 50,000 bonus points with Chase Sapphire P...</td>\n",
       "      <td>Cool, front page! I made this print along with...</td>\n",
       "      <td>[Full HD Movie Online Free](http://www.flickma...</td>\n",
       "      <td>* Karambit Black Pearl\\n* 0.02137822 Float (un...</td>\n",
       "    </tr>\n",
       "    <tr>\n",
       "      <th>4</th>\n",
       "      <td>2033</td>\n",
       "      <td>bitches  for free  at this point  show all  h...</td>\n",
       "      <td>No Advertising: Spam, referral links, unsolici...</td>\n",
       "      <td>Showerthoughts</td>\n",
       "      <td>code free tyrande ---&gt;&gt;&gt; [Imgur](http://i.imgu...</td>\n",
       "      <td>My trade link\\nhttps://steamcommunity.com/trad...</td>\n",
       "      <td>**HD** [ mio Stadium 102 HD](http://www.genti....</td>\n",
       "      <td>Infographics is an incredible method for showi...</td>\n",
       "    </tr>\n",
       "  </tbody>\n",
       "</table>\n",
       "</div>"
      ],
      "text/plain": [
       "   row_id                                               body  \\\n",
       "0    2029  NEW RAP GROUP 17. CHECK US OUT https://soundcl...   \n",
       "1    2030  Make your life comfortable. Get up to 15% Disc...   \n",
       "2    2031  Kickin' ass and selling underwear!\\nJust made ...   \n",
       "3    2032   watch  hooters  best  therein  http://clickan...   \n",
       "4    2033   bitches  for free  at this point  show all  h...   \n",
       "\n",
       "                                                rule        subreddit  \\\n",
       "0  No Advertising: Spam, referral links, unsolici...      hiphopheads   \n",
       "1  No legal advice: Do not offer or request legal...        AskReddit   \n",
       "2  No Advertising: Spam, referral links, unsolici...         gonewild   \n",
       "3  No Advertising: Spam, referral links, unsolici...  personalfinance   \n",
       "4  No Advertising: Spam, referral links, unsolici...   Showerthoughts   \n",
       "\n",
       "                                  positive_example_1  \\\n",
       "0  Hey, guys, just wanted to drop in and invite y...   \n",
       "1  Get a lawyer and get the security camera foota...   \n",
       "2  Good story my friend. Check out my blog at  ht...   \n",
       "3  Earn 50,000 bonus points with Chase Sapphire P...   \n",
       "4  code free tyrande --->>> [Imgur](http://i.imgu...   \n",
       "\n",
       "                                  positive_example_2  \\\n",
       "0  Cum Swallowing Hottie Katrina Kaif Cartoon Xvi...   \n",
       "1  That isn't drastic. You tried reaching out to ...   \n",
       "2  If you know what exactly you need then you don...   \n",
       "3  Cool, front page! I made this print along with...   \n",
       "4  My trade link\\nhttps://steamcommunity.com/trad...   \n",
       "\n",
       "                                  negative_example_1  \\\n",
       "0  SD Stream Eng - [Chelsea TV USA](http://soccer...   \n",
       "1  So what are you going to do with the insurance...   \n",
       "2  CENTIPEDES\\n\\nSOME BASED PATRIOTS HAVE CREATED...   \n",
       "3  [Full HD Movie Online Free](http://www.flickma...   \n",
       "4  **HD** [ mio Stadium 102 HD](http://www.genti....   \n",
       "\n",
       "                                  negative_example_2  \n",
       "0  HD Streams: |[ENG HD Stoke vs Manchester Unite...  \n",
       "1  It's just for Austria & Germany. If you still ...  \n",
       "2  [So great! Thanks for sharing.](http://www.che...  \n",
       "3  * Karambit Black Pearl\\n* 0.02137822 Float (un...  \n",
       "4  Infographics is an incredible method for showi...  "
      ]
     },
     "execution_count": 5,
     "metadata": {},
     "output_type": "execute_result"
    }
   ],
   "source": [
    "data_folder = Path (\"****/jigsaw-agile-community-rules\")\n",
    "\n",
    "test_path = data_folder / \"test.csv\"\n",
    "df = pd.read_csv(test_path)\n",
    "print(f\"Dataframe shape: {df.shape}\")\n",
    "df.head()\n"
   ]
  },
  {
   "cell_type": "code",
   "execution_count": 6,
   "id": "5eba55e1",
   "metadata": {},
   "outputs": [],
   "source": [
    "dataset = Dataset.from_pandas(df) # Convert pandas DataFrame to Hugging Face Dataset\n"
   ]
  },
  {
   "cell_type": "code",
   "execution_count": 7,
   "id": "1e61e69d",
   "metadata": {},
   "outputs": [],
   "source": [
    "class_names = [\"complies\", \"violates\"]\n",
    "\n",
    "prompts = [\n",
    "    f\"Classify the TEXT by selecting label from the following list: {class_names}. ### TEXT: {text.strip()} ### LABEL:\"\n",
    "    for text in df[\"body\"]\n",
    "]\n",
    "\n"
   ]
  },
  {
   "cell_type": "code",
   "execution_count": 8,
   "id": "e5896804",
   "metadata": {},
   "outputs": [],
   "source": [
    "BASE_MODEL  = \"Qwen/Qwen1.5-7B\"\n",
    "\n",
    "LORA_ADAPTER_PATH  = \"./results_qwen_lora/checkpoint-52\"\n"
   ]
  },
  {
   "cell_type": "code",
   "execution_count": 9,
   "id": "b03087ce",
   "metadata": {},
   "outputs": [],
   "source": [
    "def free_gpu_memory():\n",
    "    \"\"\"\n",
    "    Frees up GPU memory by clearing cache and garbage collecting.\n",
    "    \"\"\"\n",
    "    import torch\n",
    "    import gc\n",
    "    \n",
    "    # Empty CUDA cache\n",
    "    if torch.cuda.is_available():\n",
    "        torch.cuda.empty_cache()\n",
    "        \n",
    "        # Get initial GPU memory info\n",
    "        initial_mem = torch.cuda.memory_allocated()\n",
    "        \n",
    "        # Force garbage collection\n",
    "        gc.collect()\n",
    "        \n",
    "        # Get final GPU memory info\n",
    "        final_mem = torch.cuda.memory_allocated()\n",
    "        \n",
    "        print(f\"GPU memory freed: {(initial_mem - final_mem) / 1024**2:.2f} MB\")\n",
    "    else:\n",
    "        print(\"No GPU available\")"
   ]
  },
  {
   "cell_type": "code",
   "execution_count": 10,
   "id": "23dfd23f",
   "metadata": {},
   "outputs": [
    {
     "name": "stdout",
     "output_type": "stream",
     "text": [
      "GPU memory freed: 0.00 MB\n"
     ]
    }
   ],
   "source": [
    "free_gpu_memory()\n"
   ]
  },
  {
   "cell_type": "code",
   "execution_count": 11,
   "id": "919a53a2",
   "metadata": {},
   "outputs": [],
   "source": [
    "import torch\n",
    "torch.cuda.empty_cache()\n",
    "\n"
   ]
  },
  {
   "cell_type": "code",
   "execution_count": 12,
   "id": "d1423f62",
   "metadata": {},
   "outputs": [
    {
     "name": "stderr",
     "output_type": "stream",
     "text": [
      "`torch_dtype` is deprecated! Use `dtype` instead!\n"
     ]
    },
    {
     "name": "stdout",
     "output_type": "stream",
     "text": [
      "INFO 10-20 11:52:49 config.py:520] This model supports multiple tasks: {'classify', 'generate', 'embed', 'reward', 'score'}. Defaulting to 'generate'.\n",
      "INFO 10-20 11:52:49 llm_engine.py:232] Initializing an LLM engine (v0.7.0) with config: model='Qwen/Qwen1.5-7B', speculative_config=None, tokenizer='Qwen/Qwen1.5-7B', skip_tokenizer_init=False, tokenizer_mode=auto, revision=None, override_neuron_config=None, tokenizer_revision=None, trust_remote_code=True, dtype=torch.bfloat16, max_seq_len=262, download_dir=None, load_format=auto, tensor_parallel_size=1, pipeline_parallel_size=1, disable_custom_all_reduce=False, quantization=None, enforce_eager=False, kv_cache_dtype=auto,  device_config=cuda, decoding_config=DecodingConfig(guided_decoding_backend='outlines'), observability_config=ObservabilityConfig(otlp_traces_endpoint=None, collect_model_forward_time=False, collect_model_execute_time=False), seed=0, served_model_name=Qwen/Qwen1.5-7B, num_scheduler_steps=1, multi_step_stream_outputs=True, enable_prefix_caching=False, chunked_prefill_enabled=False, use_async_output_proc=True, disable_mm_preprocessor_cache=False, mm_processor_kwargs=None, pooler_config=None, compilation_config={\"splitting_ops\":[],\"compile_sizes\":[],\"cudagraph_capture_sizes\":[256,248,240,232,224,216,208,200,192,184,176,168,160,152,144,136,128,120,112,104,96,88,80,72,64,56,48,40,32,24,16,8,4,2,1],\"max_capture_size\":256}, use_cached_outputs=False, \n",
      "INFO 10-20 11:52:50 cuda.py:225] Using Flash Attention backend.\n",
      "INFO 10-20 11:52:51 model_runner.py:1110] Starting to load model Qwen/Qwen1.5-7B...\n",
      "INFO 10-20 11:52:51 weight_utils.py:251] Using model weights format ['*.safetensors']\n"
     ]
    },
    {
     "name": "stderr",
     "output_type": "stream",
     "text": [
      "Loading safetensors checkpoint shards:   0% Completed | 0/4 [00:00<?, ?it/s]\n",
      "Loading safetensors checkpoint shards:  25% Completed | 1/4 [00:00<00:01,  2.68it/s]\n",
      "Loading safetensors checkpoint shards:  50% Completed | 2/4 [00:00<00:00,  2.41it/s]\n",
      "Loading safetensors checkpoint shards:  75% Completed | 3/4 [00:01<00:00,  2.31it/s]\n",
      "Loading safetensors checkpoint shards: 100% Completed | 4/4 [00:01<00:00,  2.26it/s]\n",
      "Loading safetensors checkpoint shards: 100% Completed | 4/4 [00:01<00:00,  2.31it/s]\n",
      "\n"
     ]
    },
    {
     "name": "stdout",
     "output_type": "stream",
     "text": [
      "INFO 10-20 11:52:53 model_runner.py:1115] Loading model weights took 14.3919 GB\n",
      "INFO 10-20 11:52:53 punica_selector.py:16] Using PunicaWrapperGPU.\n",
      "INFO 10-20 11:52:54 worker.py:266] Memory profiling takes 0.99 seconds\n",
      "INFO 10-20 11:52:54 worker.py:266] the current vLLM instance can use total_gpu_memory (47.41GiB) x gpu_memory_utilization (0.60) = 28.45GiB\n",
      "INFO 10-20 11:52:54 worker.py:266] model weights take 14.39GiB; non_torch_memory takes 0.06GiB; PyTorch activation peak memory takes 1.40GiB; the rest of the memory reserved for KV Cache is 12.60GiB.\n",
      "INFO 10-20 11:52:55 executor_base.py:108] # CUDA blocks: 1612, # CPU blocks: 512\n",
      "INFO 10-20 11:52:55 executor_base.py:113] Maximum concurrency for 262 tokens per request: 98.44x\n",
      "INFO 10-20 11:52:55 model_runner.py:1430] Capturing cudagraphs for decoding. This may lead to unexpected consequences if the model is not static. To run the model in eager mode, set 'enforce_eager=True' or use '--enforce-eager' in the CLI. If out-of-memory error occurs during cudagraph capture, consider decreasing `gpu_memory_utilization` or switching to eager mode. You can also reduce the `max_num_seqs` as needed to decrease memory usage.\n"
     ]
    },
    {
     "name": "stderr",
     "output_type": "stream",
     "text": [
      "Capturing CUDA graph shapes: 100%|██████████| 35/35 [00:16<00:00,  2.13it/s]"
     ]
    },
    {
     "name": "stdout",
     "output_type": "stream",
     "text": [
      "INFO 10-20 11:53:12 model_runner.py:1558] Graph capturing finished in 16 secs, took 0.36 GiB\n",
      "INFO 10-20 11:53:12 llm_engine.py:429] init engine (profile, create kv cache, warmup model) took 18.74 seconds\n"
     ]
    },
    {
     "name": "stderr",
     "output_type": "stream",
     "text": [
      "\n"
     ]
    }
   ],
   "source": [
    "\n",
    "llm = LLM(\n",
    "    model=BASE_MODEL,\n",
    "    dtype=\"bfloat16\",              # string, not torch dtype\n",
    "    trust_remote_code=True,\n",
    "    enable_lora=True,\n",
    "    max_lora_rank=128,\n",
    "    gpu_memory_utilization=0.6,\n",
    "    max_model_len=262,             # or larger if you have VRAM\n",
    "    guided_decoding_backend=\"outlines\",\n",
    ")"
   ]
  },
  {
   "cell_type": "code",
   "execution_count": 13,
   "id": "e7be8f16",
   "metadata": {},
   "outputs": [
    {
     "name": "stderr",
     "output_type": "stream",
     "text": [
      "/tmp/ipykernel_425055/3445125222.py:2: DeprecationWarning: The 'lora_local_path' attribute is deprecated and will be removed in a future version. Please use 'lora_path' instead.\n",
      "  lora_request = LoRARequest(\n"
     ]
    }
   ],
   "source": [
    "# Apply the trained LoRA adapter\n",
    "lora_request = LoRARequest(\n",
    "    lora_name=\"PartB_Inference\",\n",
    "    lora_int_id=1,\n",
    "    lora_path=LORA_ADAPTER_PATH\n",
    ")\n"
   ]
  },
  {
   "cell_type": "code",
   "execution_count": 14,
   "id": "2c64bb33",
   "metadata": {},
   "outputs": [],
   "source": [
    "# Define generation (sampling) parameters\n",
    "sampling_params = SamplingParams(\n",
    "    temperature=0.0,\n",
    "    top_p=1.0,\n",
    "    max_tokens=8,\n",
    "    stop=[\"\\n\"]\n",
    ")"
   ]
  },
  {
   "cell_type": "code",
   "execution_count": 15,
   "id": "6c517ed8",
   "metadata": {},
   "outputs": [],
   "source": [
    "import re\n",
    "\n",
    "def normalize_prediction(text):\n",
    "    text = text.lower().strip()\n",
    "    if \"vio\" in text:\n",
    "        return \"violates\"\n",
    "    elif \"com\" in text:\n",
    "        return \"complies\"\n",
    "    else:\n",
    "        return \"unknown\"\n",
    "\n"
   ]
  },
  {
   "cell_type": "code",
   "execution_count": 16,
   "id": "f9caede7",
   "metadata": {},
   "outputs": [
    {
     "name": "stderr",
     "output_type": "stream",
     "text": [
      "Processed prompts: 100%|██████████| 10/10 [00:00<00:00, 41.44it/s, est. speed input: 2837.09 toks/s, output: 99.54 toks/s]\n",
      "Generating predictions: 100%|██████████| 1/1 [00:00<00:00,  1.89it/s]"
     ]
    },
    {
     "name": "stdout",
     "output_type": "stream",
     "text": [
      "   row_id                                               body  \\\n",
      "0    2029  NEW RAP GROUP 17. CHECK US OUT https://soundcl...   \n",
      "1    2030  Make your life comfortable. Get up to 15% Disc...   \n",
      "2    2031  Kickin' ass and selling underwear!\\nJust made ...   \n",
      "3    2032   watch  hooters  best  therein  http://clickan...   \n",
      "4    2033   bitches  for free  at this point  show all  h...   \n",
      "5    2034  Top 10 Pentakills in August https://youtu.be/Z...   \n",
      "6    2035  WIN A SAMSUNG SMARTWATCH!\\n\\nhttp://www.innomd...   \n",
      "7    2036  [This mixtape is lit FAM!](https://beholdthear...   \n",
      "8    2037  must be watch movie https://sites.google.com/s...   \n",
      "9    2038  Free paypal cards here!! https://www.pointspri...   \n",
      "\n",
      "                                                rule           subreddit  \\\n",
      "0  No Advertising: Spam, referral links, unsolici...         hiphopheads   \n",
      "1  No legal advice: Do not offer or request legal...           AskReddit   \n",
      "2  No Advertising: Spam, referral links, unsolici...            gonewild   \n",
      "3  No Advertising: Spam, referral links, unsolici...     personalfinance   \n",
      "4  No Advertising: Spam, referral links, unsolici...      Showerthoughts   \n",
      "5  No Advertising: Spam, referral links, unsolici...     leagueoflegends   \n",
      "6  No Advertising: Spam, referral links, unsolici...           AskReddit   \n",
      "7  No Advertising: Spam, referral links, unsolici...  BlackPeopleTwitter   \n",
      "8  No Advertising: Spam, referral links, unsolici...              movies   \n",
      "9  No Advertising: Spam, referral links, unsolici...                pics   \n",
      "\n",
      "                                  positive_example_1  \\\n",
      "0  Hey, guys, just wanted to drop in and invite y...   \n",
      "1  Get a lawyer and get the security camera foota...   \n",
      "2  Good story my friend. Check out my blog at  ht...   \n",
      "3  Earn 50,000 bonus points with Chase Sapphire P...   \n",
      "4  code free tyrande --->>> [Imgur](http://i.imgu...   \n",
      "5  code free tyrande --->>> [Imgur](http://i.imgu...   \n",
      "6  [ENJOY 50,000 BONUS POINTS after $4,000 spent ...   \n",
      "7  watch good one hooters there http://https://x5...   \n",
      "8   see  there  hooters  sweet  http://url.t.aylo...   \n",
      "9  she will come your home open her legs with  an...   \n",
      "\n",
      "                                  positive_example_2  \\\n",
      "0  Cum Swallowing Hottie Katrina Kaif Cartoon Xvi...   \n",
      "1  That isn't drastic. You tried reaching out to ...   \n",
      "2  If you know what exactly you need then you don...   \n",
      "3  Cool, front page! I made this print along with...   \n",
      "4  My trade link\\nhttps://steamcommunity.com/trad...   \n",
      "5   see  tits  sweet  at this point  http://sh.or...   \n",
      "6  We have high quality Canadian Polymer banknote...   \n",
      "7  bad pussies waiting for you herein http://gour...   \n",
      "8  Sign up with my link and get $1,000 of free pr...   \n",
      "9  Old and young  your girl-next-door make sex wi...   \n",
      "\n",
      "                                  negative_example_1  \\\n",
      "0  SD Stream Eng - [Chelsea TV USA](http://soccer...   \n",
      "1  So what are you going to do with the insurance...   \n",
      "2  CENTIPEDES\\n\\nSOME BASED PATRIOTS HAVE CREATED...   \n",
      "3  [Full HD Movie Online Free](http://www.flickma...   \n",
      "4  **HD** [ mio Stadium 102 HD](http://www.genti....   \n",
      "5  its my asreddit https://www.youtube.com/watch?...   \n",
      "6  i was on the same ios and try this jailbreak m...   \n",
      "7  [Full HD Movie Online Free](http://www.flickma...   \n",
      "8  The fact that there are pro and cons to everyt...   \n",
      "9  i think  the conjuring 2 is not bad movie ,The...   \n",
      "\n",
      "                                  negative_example_2 predicted_label  \n",
      "0  HD Streams: |[ENG HD Stoke vs Manchester Unite...        complies  \n",
      "1  It's just for Austria & Germany. If you still ...        violates  \n",
      "2  [So great! Thanks for sharing.](http://www.che...        violates  \n",
      "3  * Karambit Black Pearl\\n* 0.02137822 Float (un...        violates  \n",
      "4  Infographics is an incredible method for showi...        violates  \n",
      "5  click here for more videos[Russian mafia messe...        complies  \n",
      "6  We're streaming Pokemon Veitnamese Crystal RIG...        violates  \n",
      "7  * Computers :http://livematchstreamz.blogspot....        complies  \n",
      "8  Oh that's interesting. You should check out my...        complies  \n",
      "9  wow, she's so beautyful\\n>[Sakura Vietnam](htt...        violates  \n"
     ]
    },
    {
     "name": "stderr",
     "output_type": "stream",
     "text": [
      "\n"
     ]
    }
   ],
   "source": [
    "# Run batch inference\n",
    "from tqdm import tqdm\n",
    "predictions = []\n",
    "\n",
    "for i in tqdm(range(0, len(prompts), 16), desc=\"Generating predictions\"):\n",
    "    batch = prompts[i:i+16]\n",
    "    outputs = llm.generate(batch, sampling_params, lora_request=lora_request)\n",
    "\n",
    "    for o in outputs:\n",
    "        raw = o.outputs[0].text\n",
    "        pred = normalize_prediction(raw)\n",
    "        predictions.append(pred)\n",
    "\n",
    "\n",
    "df[\"predicted_label\"] = predictions\n",
    "print(df)\n"
   ]
  },
  {
   "cell_type": "code",
   "execution_count": 17,
   "id": "9f9de0fc",
   "metadata": {},
   "outputs": [
    {
     "name": "stdout",
     "output_type": "stream",
     "text": [
      "\n",
      "🔍 Prediction Summary:\n",
      "complies   : 4\n",
      "violates   : 6\n"
     ]
    }
   ],
   "source": [
    "from collections import Counter\n",
    "counts = Counter(predictions)\n",
    "print(\"\\n🔍 Prediction Summary:\")\n",
    "for k, v in counts.items():\n",
    "    print(f\"{k:10s} : {v}\")\n"
   ]
  },
  {
   "cell_type": "code",
   "execution_count": 30,
   "id": "c7075fa5",
   "metadata": {},
   "outputs": [
    {
     "data": {
      "text/html": [
       "<div>\n",
       "<style scoped>\n",
       "    .dataframe tbody tr th:only-of-type {\n",
       "        vertical-align: middle;\n",
       "    }\n",
       "\n",
       "    .dataframe tbody tr th {\n",
       "        vertical-align: top;\n",
       "    }\n",
       "\n",
       "    .dataframe thead th {\n",
       "        text-align: right;\n",
       "    }\n",
       "</style>\n",
       "<table border=\"1\" class=\"dataframe\">\n",
       "  <thead>\n",
       "    <tr style=\"text-align: right;\">\n",
       "      <th></th>\n",
       "      <th>row_id</th>\n",
       "      <th>body</th>\n",
       "      <th>rule</th>\n",
       "      <th>subreddit</th>\n",
       "      <th>positive_example_1</th>\n",
       "      <th>positive_example_2</th>\n",
       "      <th>negative_example_1</th>\n",
       "      <th>negative_example_2</th>\n",
       "      <th>predicted_label</th>\n",
       "    </tr>\n",
       "  </thead>\n",
       "  <tbody>\n",
       "    <tr>\n",
       "      <th>0</th>\n",
       "      <td>2029</td>\n",
       "      <td>NEW RAP GROUP 17. CHECK US OUT https://soundcl...</td>\n",
       "      <td>No Advertising: Spam, referral links, unsolici...</td>\n",
       "      <td>hiphopheads</td>\n",
       "      <td>Hey, guys, just wanted to drop in and invite y...</td>\n",
       "      <td>Cum Swallowing Hottie Katrina Kaif Cartoon Xvi...</td>\n",
       "      <td>SD Stream Eng - [Chelsea TV USA](http://soccer...</td>\n",
       "      <td>HD Streams: |[ENG HD Stoke vs Manchester Unite...</td>\n",
       "      <td>0</td>\n",
       "    </tr>\n",
       "    <tr>\n",
       "      <th>1</th>\n",
       "      <td>2030</td>\n",
       "      <td>Make your life comfortable. Get up to 15% Disc...</td>\n",
       "      <td>No legal advice: Do not offer or request legal...</td>\n",
       "      <td>AskReddit</td>\n",
       "      <td>Get a lawyer and get the security camera foota...</td>\n",
       "      <td>That isn't drastic. You tried reaching out to ...</td>\n",
       "      <td>So what are you going to do with the insurance...</td>\n",
       "      <td>It's just for Austria &amp; Germany. If you still ...</td>\n",
       "      <td>1</td>\n",
       "    </tr>\n",
       "    <tr>\n",
       "      <th>2</th>\n",
       "      <td>2031</td>\n",
       "      <td>Kickin' ass and selling underwear!\\nJust made ...</td>\n",
       "      <td>No Advertising: Spam, referral links, unsolici...</td>\n",
       "      <td>gonewild</td>\n",
       "      <td>Good story my friend. Check out my blog at  ht...</td>\n",
       "      <td>If you know what exactly you need then you don...</td>\n",
       "      <td>CENTIPEDES\\n\\nSOME BASED PATRIOTS HAVE CREATED...</td>\n",
       "      <td>[So great! Thanks for sharing.](http://www.che...</td>\n",
       "      <td>1</td>\n",
       "    </tr>\n",
       "    <tr>\n",
       "      <th>3</th>\n",
       "      <td>2032</td>\n",
       "      <td>watch  hooters  best  therein  http://clickan...</td>\n",
       "      <td>No Advertising: Spam, referral links, unsolici...</td>\n",
       "      <td>personalfinance</td>\n",
       "      <td>Earn 50,000 bonus points with Chase Sapphire P...</td>\n",
       "      <td>Cool, front page! I made this print along with...</td>\n",
       "      <td>[Full HD Movie Online Free](http://www.flickma...</td>\n",
       "      <td>* Karambit Black Pearl\\n* 0.02137822 Float (un...</td>\n",
       "      <td>1</td>\n",
       "    </tr>\n",
       "    <tr>\n",
       "      <th>4</th>\n",
       "      <td>2033</td>\n",
       "      <td>bitches  for free  at this point  show all  h...</td>\n",
       "      <td>No Advertising: Spam, referral links, unsolici...</td>\n",
       "      <td>Showerthoughts</td>\n",
       "      <td>code free tyrande ---&gt;&gt;&gt; [Imgur](http://i.imgu...</td>\n",
       "      <td>My trade link\\nhttps://steamcommunity.com/trad...</td>\n",
       "      <td>**HD** [ mio Stadium 102 HD](http://www.genti....</td>\n",
       "      <td>Infographics is an incredible method for showi...</td>\n",
       "      <td>1</td>\n",
       "    </tr>\n",
       "    <tr>\n",
       "      <th>5</th>\n",
       "      <td>2034</td>\n",
       "      <td>Top 10 Pentakills in August https://youtu.be/Z...</td>\n",
       "      <td>No Advertising: Spam, referral links, unsolici...</td>\n",
       "      <td>leagueoflegends</td>\n",
       "      <td>code free tyrande ---&gt;&gt;&gt; [Imgur](http://i.imgu...</td>\n",
       "      <td>see  tits  sweet  at this point  http://sh.or...</td>\n",
       "      <td>its my asreddit https://www.youtube.com/watch?...</td>\n",
       "      <td>click here for more videos[Russian mafia messe...</td>\n",
       "      <td>0</td>\n",
       "    </tr>\n",
       "    <tr>\n",
       "      <th>6</th>\n",
       "      <td>2035</td>\n",
       "      <td>WIN A SAMSUNG SMARTWATCH!\\n\\nhttp://www.innomd...</td>\n",
       "      <td>No Advertising: Spam, referral links, unsolici...</td>\n",
       "      <td>AskReddit</td>\n",
       "      <td>[ENJOY 50,000 BONUS POINTS after $4,000 spent ...</td>\n",
       "      <td>We have high quality Canadian Polymer banknote...</td>\n",
       "      <td>i was on the same ios and try this jailbreak m...</td>\n",
       "      <td>We're streaming Pokemon Veitnamese Crystal RIG...</td>\n",
       "      <td>1</td>\n",
       "    </tr>\n",
       "    <tr>\n",
       "      <th>7</th>\n",
       "      <td>2036</td>\n",
       "      <td>[This mixtape is lit FAM!](https://beholdthear...</td>\n",
       "      <td>No Advertising: Spam, referral links, unsolici...</td>\n",
       "      <td>BlackPeopleTwitter</td>\n",
       "      <td>watch good one hooters there http://https://x5...</td>\n",
       "      <td>bad pussies waiting for you herein http://gour...</td>\n",
       "      <td>[Full HD Movie Online Free](http://www.flickma...</td>\n",
       "      <td>* Computers :http://livematchstreamz.blogspot....</td>\n",
       "      <td>0</td>\n",
       "    </tr>\n",
       "    <tr>\n",
       "      <th>8</th>\n",
       "      <td>2037</td>\n",
       "      <td>must be watch movie https://sites.google.com/s...</td>\n",
       "      <td>No Advertising: Spam, referral links, unsolici...</td>\n",
       "      <td>movies</td>\n",
       "      <td>see  there  hooters  sweet  http://url.t.aylo...</td>\n",
       "      <td>Sign up with my link and get $1,000 of free pr...</td>\n",
       "      <td>The fact that there are pro and cons to everyt...</td>\n",
       "      <td>Oh that's interesting. You should check out my...</td>\n",
       "      <td>0</td>\n",
       "    </tr>\n",
       "    <tr>\n",
       "      <th>9</th>\n",
       "      <td>2038</td>\n",
       "      <td>Free paypal cards here!! https://www.pointspri...</td>\n",
       "      <td>No Advertising: Spam, referral links, unsolici...</td>\n",
       "      <td>pics</td>\n",
       "      <td>she will come your home open her legs with  an...</td>\n",
       "      <td>Old and young  your girl-next-door make sex wi...</td>\n",
       "      <td>i think  the conjuring 2 is not bad movie ,The...</td>\n",
       "      <td>wow, she's so beautyful\\n&gt;[Sakura Vietnam](htt...</td>\n",
       "      <td>1</td>\n",
       "    </tr>\n",
       "  </tbody>\n",
       "</table>\n",
       "</div>"
      ],
      "text/plain": [
       "   row_id                                               body  \\\n",
       "0    2029  NEW RAP GROUP 17. CHECK US OUT https://soundcl...   \n",
       "1    2030  Make your life comfortable. Get up to 15% Disc...   \n",
       "2    2031  Kickin' ass and selling underwear!\\nJust made ...   \n",
       "3    2032   watch  hooters  best  therein  http://clickan...   \n",
       "4    2033   bitches  for free  at this point  show all  h...   \n",
       "5    2034  Top 10 Pentakills in August https://youtu.be/Z...   \n",
       "6    2035  WIN A SAMSUNG SMARTWATCH!\\n\\nhttp://www.innomd...   \n",
       "7    2036  [This mixtape is lit FAM!](https://beholdthear...   \n",
       "8    2037  must be watch movie https://sites.google.com/s...   \n",
       "9    2038  Free paypal cards here!! https://www.pointspri...   \n",
       "\n",
       "                                                rule           subreddit  \\\n",
       "0  No Advertising: Spam, referral links, unsolici...         hiphopheads   \n",
       "1  No legal advice: Do not offer or request legal...           AskReddit   \n",
       "2  No Advertising: Spam, referral links, unsolici...            gonewild   \n",
       "3  No Advertising: Spam, referral links, unsolici...     personalfinance   \n",
       "4  No Advertising: Spam, referral links, unsolici...      Showerthoughts   \n",
       "5  No Advertising: Spam, referral links, unsolici...     leagueoflegends   \n",
       "6  No Advertising: Spam, referral links, unsolici...           AskReddit   \n",
       "7  No Advertising: Spam, referral links, unsolici...  BlackPeopleTwitter   \n",
       "8  No Advertising: Spam, referral links, unsolici...              movies   \n",
       "9  No Advertising: Spam, referral links, unsolici...                pics   \n",
       "\n",
       "                                  positive_example_1  \\\n",
       "0  Hey, guys, just wanted to drop in and invite y...   \n",
       "1  Get a lawyer and get the security camera foota...   \n",
       "2  Good story my friend. Check out my blog at  ht...   \n",
       "3  Earn 50,000 bonus points with Chase Sapphire P...   \n",
       "4  code free tyrande --->>> [Imgur](http://i.imgu...   \n",
       "5  code free tyrande --->>> [Imgur](http://i.imgu...   \n",
       "6  [ENJOY 50,000 BONUS POINTS after $4,000 spent ...   \n",
       "7  watch good one hooters there http://https://x5...   \n",
       "8   see  there  hooters  sweet  http://url.t.aylo...   \n",
       "9  she will come your home open her legs with  an...   \n",
       "\n",
       "                                  positive_example_2  \\\n",
       "0  Cum Swallowing Hottie Katrina Kaif Cartoon Xvi...   \n",
       "1  That isn't drastic. You tried reaching out to ...   \n",
       "2  If you know what exactly you need then you don...   \n",
       "3  Cool, front page! I made this print along with...   \n",
       "4  My trade link\\nhttps://steamcommunity.com/trad...   \n",
       "5   see  tits  sweet  at this point  http://sh.or...   \n",
       "6  We have high quality Canadian Polymer banknote...   \n",
       "7  bad pussies waiting for you herein http://gour...   \n",
       "8  Sign up with my link and get $1,000 of free pr...   \n",
       "9  Old and young  your girl-next-door make sex wi...   \n",
       "\n",
       "                                  negative_example_1  \\\n",
       "0  SD Stream Eng - [Chelsea TV USA](http://soccer...   \n",
       "1  So what are you going to do with the insurance...   \n",
       "2  CENTIPEDES\\n\\nSOME BASED PATRIOTS HAVE CREATED...   \n",
       "3  [Full HD Movie Online Free](http://www.flickma...   \n",
       "4  **HD** [ mio Stadium 102 HD](http://www.genti....   \n",
       "5  its my asreddit https://www.youtube.com/watch?...   \n",
       "6  i was on the same ios and try this jailbreak m...   \n",
       "7  [Full HD Movie Online Free](http://www.flickma...   \n",
       "8  The fact that there are pro and cons to everyt...   \n",
       "9  i think  the conjuring 2 is not bad movie ,The...   \n",
       "\n",
       "                                  negative_example_2  predicted_label  \n",
       "0  HD Streams: |[ENG HD Stoke vs Manchester Unite...                0  \n",
       "1  It's just for Austria & Germany. If you still ...                1  \n",
       "2  [So great! Thanks for sharing.](http://www.che...                1  \n",
       "3  * Karambit Black Pearl\\n* 0.02137822 Float (un...                1  \n",
       "4  Infographics is an incredible method for showi...                1  \n",
       "5  click here for more videos[Russian mafia messe...                0  \n",
       "6  We're streaming Pokemon Veitnamese Crystal RIG...                1  \n",
       "7  * Computers :http://livematchstreamz.blogspot....                0  \n",
       "8  Oh that's interesting. You should check out my...                0  \n",
       "9  wow, she's so beautyful\\n>[Sakura Vietnam](htt...                1  "
      ]
     },
     "execution_count": 30,
     "metadata": {},
     "output_type": "execute_result"
    }
   ],
   "source": [
    "df['predicted_label'] = df['predicted_label'].map({'complies': 0, 'violates': 1})\n",
    "df"
   ]
  },
  {
   "cell_type": "code",
   "execution_count": 31,
   "id": "3dcb09fd",
   "metadata": {},
   "outputs": [
    {
     "name": "stdout",
     "output_type": "stream",
     "text": [
      "Saved predictions to ./inference_predictions.csv\n"
     ]
    }
   ],
   "source": [
    "#  Save predictions\n",
    "output_path = \"./inference_predictions.csv\"\n",
    "df.to_csv(output_path, index=False)\n",
    "print(f\"Saved predictions to {output_path}\")"
   ]
  },
  {
   "cell_type": "code",
   "execution_count": 32,
   "id": "cbdd7d28",
   "metadata": {},
   "outputs": [],
   "source": [
    "# Finish wandb run\n",
    "wandb.finish()"
   ]
  }
 ],
 "metadata": {
  "kernelspec": {
   "display_name": "llmenv",
   "language": "python",
   "name": "python3"
  },
  "language_info": {
   "codemirror_mode": {
    "name": "ipython",
    "version": 3
   },
   "file_extension": ".py",
   "mimetype": "text/x-python",
   "name": "python",
   "nbconvert_exporter": "python",
   "pygments_lexer": "ipython3",
   "version": "3.10.18"
  }
 },
 "nbformat": 4,
 "nbformat_minor": 5
}
